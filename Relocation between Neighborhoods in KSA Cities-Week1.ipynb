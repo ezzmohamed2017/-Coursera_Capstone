{
 "cells": [
  {
   "cell_type": "markdown",
   "metadata": {},
   "source": [
    "\n",
    "<h1 align=center><font size = 5>Relocation between Neighborhoods in KSA Cities</font></h1>"
   ]
  },
  {
   "cell_type": "markdown",
   "metadata": {},
   "source": [
    "## 1. Introduction\n",
    "\n",
    "Kingdom of Saudi Arabia (KSA) is an Arab Islamic state, the largest country in the Arabian peninsula situated at the strategic crossroads of three continents Europe, Africa and Asia. It is a home to several human civilizations and the cradle of the heavenly messages. Capital of Saudi Arabia is Riyadh.\n",
    "\n",
    "KSA is renowned for the sacred sites of Islam. The two Holy Mosques' of Makkah Al Mukarramah and Al Madinah Al Munawwarah are the destinations of millions of Muslims annually for Hajj and Umrah additionally they visit other significant sites of Islam.\n",
    "\n",
    "KSA ranks first in production and reserves of petrol, fifth in natural gas reserves and tenth in natural gas production. Thousands of Muslims heads for the KSA for Hajj and Umrah and for visiting Makkah Al Mukarramah and Al Madinah Al Munawwarah, these visits necessitates provision of housing, catering and health services for the guests of Allah almighty. \n",
    "\n",
    "part of Saudi Vision 2030 opening Saudi Arabia further for business will boost productivity and smooth  journey to become one of the largest economies in the world. They improve business environment, restructure economic cities, create special zones and deregulate the energy market to make it more competitive.\n",
    "\n",
    "The Saudi Human Resources Gateway is one of the major initiatives of HRDF that aims to create a leap forward in HR Management practice, to contribute to the progression of the HR practitioners and to form a knowledge database where establishments, HR practitioners and researchers can benefit from.\n",
    "The HR Gateway aims to provide specialized, comprehensive, and free of charge Arabic HR content. Also it aims to offer HR practitioners an effective social platform as well as allowing them to have a reach to HR related contents, practicing it and modifying it to suit the company needs and share their experiences.\n",
    "\n",
    "One of innovative services we can add to Saudi HR Gateway providing advising service for  people  to move and live in one of  KSA cities suitable and nicely and suitable ."
   ]
  },
  {
   "cell_type": "markdown",
   "metadata": {},
   "source": [
    "### a) Problem Description:\n",
    "\n",
    "Now let me explain the context of coursera Capstone project through a an example.  Fahed live on Al Wurud distrect which is a neighborhood in Jeddah city (one of KSA cities). Fahed love this  neighborhood, mainly because of all the great surrounding and enviormnent that exist in this neighborhood, such as burger joint, dessert shop, coffee shops,parks, pharmacies, graduate schools and so on. There are  lot of oppertunity and  job offer from a great company in Riyadh city (the capital of KSA) with great career prospects. However, given the far distance from his current place he unfortunately must move if he decide to accept the offer.\n",
    "\n",
    "Wouldn't it be great if we are able to help Fahed or any similar person to determine neighborhoods on the other city that are the similar as the current neighborhood, and if not perhaps similar neighborhoods that are at least closer to his new job?"
   ]
  },
  {
   "cell_type": "markdown",
   "metadata": {},
   "source": [
    "### b)  Objective\n",
    "\n",
    "The aim of this report is to study and analyze the neighborhoods of both Jeddah and Riyadh cities and group them into similar clusters, to analyze those clusters to gather meaningful information. That information can be used to find out Riyadh neighborhoods that are same as current neighborhood in Jeddah or at least similar but . \n",
    "\n",
    "This will help any person decide to move from one city to another in same country or diffrent country"
   ]
  },
  {
   "cell_type": "markdown",
   "metadata": {},
   "source": [
    "### c)  Target Audience\n",
    "\n",
    "This information provided by this report would be useful for people who are interested in relocating to a different city  and are interested in finding new neighborhoods that are highly similar to their existing neighborhood."
   ]
  },
  {
   "cell_type": "markdown",
   "metadata": {},
   "source": [
    "## 2. Data Description:\n",
    "    \n",
    "To consider the objective stated above, we can list the below data sources used for the analysis.\n",
    "\n",
    "### a) KSA Neighborhood Data: \n",
    "The following github project (https://github.com/homaily/Saudi-Arabia-Regions-Cities-and-Districts/tree/master/json) contains Saudi Arabia Regions, Cities and Districts. The data is public data collected from https://maps.address.gov.sa/ as ,all coordinates in (Lat, Lon) aka (Y, X) format and 8 decimal points.\n",
    "    Data points include:\n",
    "        Regions, Cities and Districts.\n",
    "        Names (Arabic & English).\n",
    "        Regions capital city, population & center point.\n",
    "        Regions boundaries.\n",
    "        Districts boundaries.\n",
    "This data divided into three parts:\n",
    "- regions.json\n",
    "- cities.json\n",
    "- districts.json\n",
    "\n",
    "The information obtained will be transformed into a pandas data frame for further analysis.\n",
    "\n",
    "### b) Coordinate data for each Neighborhood in Toronto: \n",
    "    \n",
    "All the venues in each neighborhood in the KSA cities will be collected from  Fousquare using  Fousquare API \n",
    "By using this api we will get all the venues in each neighborhood. We can filter these venues to get only two cities will be anlyzed."
   ]
  },
  {
   "cell_type": "code",
   "execution_count": null,
   "metadata": {},
   "outputs": [],
   "source": []
  }
 ],
 "metadata": {
  "anaconda-cloud": {},
  "hide_input": false,
  "kernelspec": {
   "display_name": "Python 3",
   "language": "python",
   "name": "python3"
  },
  "language_info": {
   "codemirror_mode": {
    "name": "ipython",
    "version": 3
   },
   "file_extension": ".py",
   "mimetype": "text/x-python",
   "name": "python",
   "nbconvert_exporter": "python",
   "pygments_lexer": "ipython3",
   "version": "3.7.6"
  }
 },
 "nbformat": 4,
 "nbformat_minor": 2
}
