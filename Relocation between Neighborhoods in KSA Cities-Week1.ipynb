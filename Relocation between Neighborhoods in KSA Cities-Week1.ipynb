{
 "cells": [
  {
   "cell_type": "markdown",
   "metadata": {},
   "source": [
    "\n",
    "# Relocation between Neighborhoods in KSA Cities"
   ]
  },
  {
   "cell_type": "markdown",
   "metadata": {},
   "source": [
    "## 1. Introduction\n",
    "\n",
    "Kingdom of Saudi Arabia (KSA) is an Arab Islamic state, the largest country in the Arabian peninsula situated at the strategic crossroads of three continents Europe, Africa and Asia. It is a home to several human civilizations and the cradle of the heavenly messages. Capital of Saudi Arabia is Riyadh.\n",
    "\n",
    "KSA is renowned for the sacred sites of Islam. The two Holy Mosques' of Makkah Al Mukarramah and Al Madinah Al Munawwarah are the destinations of millions of Muslims annually for Hajj and Umrah additionally they visit other significant sites of Islam.\n",
    "\n",
    "KSA ranks first in production and reserves of petrol, fifth in natural gas reserves and tenth in natural gas production. Thousands of Muslims heads for the KSA for Hajj and Umrah and for visiting Makkah Al Mukarramah and Al Madinah Al Munawwarah, these visits necessitates provision of housing, catering and health services for the guests of Allah almighty. \n",
    "\n",
    "part of Saudi Vision 2030 opening Saudi Arabia further for business will boost productivity and smooth  journey to become one of the largest economies in the world. They improve business environment, restructure economic cities, create special zones and deregulate the energy market to make it more competitive.\n",
    "\n",
    "The Saudi Human Resources Gateway is one of the major initiatives of HRDF that aims to create a leap forward in HR Management practice, to contribute to the progression of the HR practitioners and to form a knowledge database where establishments, HR practitioners and researchers can benefit from.\n",
    "The HR Gateway aims to provide specialized, comprehensive, and free of charge Arabic HR content. Also it aims to offer HR practitioners an effective social platform as well as allowing them to have a reach to HR related contents, practicing it and modifying it to suit the company needs and share their experiences.\n",
    "\n",
    "One of innovative services we can add to Saudi HR Gateway providing advising service for  people  to move and live in one of  KSA cities suitable and nicely and suitable ."
   ]
  },
  {
   "cell_type": "markdown",
   "metadata": {},
   "source": [
    "### a) Problem Description:\n",
    "\n",
    "Now let me explain the context of coursera Capstone project through a an example.  Fahed live on Al Wurud distrect which is a neighborhood in Jeddah city (one of KSA cities). Fahed love this  neighborhood, mainly because of all the great surrounding and enviormnent that exist in this neighborhood, such as burger joint, dessert shop, coffee shops,parks, pharmacies, graduate schools and so on. There are  lot of oppertunity and  job offer from a great company in Riyadh city (the capital of KSA) with great career prospects. However, given the far distance from his current place he unfortunately must move if he decide to accept the offer.\n",
    "\n",
    "Wouldn't it be great if we are able to help Fahed or any similar person to determine neighborhoods on the other city that are the similar as the current neighborhood, and if not perhaps similar neighborhoods that are at least closer to his new job?"
   ]
  },
  {
   "cell_type": "markdown",
   "metadata": {},
   "source": [
    "### b)  Objective\n",
    "\n",
    "The aim of this report is to study and analyze the neighborhoods of both Jeddah and Riyadh cities and group them into similar clusters, to analyze those clusters to gather meaningful information. That information can be used to find out Riyadh neighborhoods that are same as current neighborhood in Jeddah or at least similar but . \n",
    "\n",
    "This will help any person decide to move from one city to another in same country or diffrent country"
   ]
  },
  {
   "cell_type": "markdown",
   "metadata": {},
   "source": [
    "### c)  Target Audience\n",
    "\n",
    "This information provided by this report would be useful for people who are interested in relocating to a different city  and are interested in finding new neighborhoods that are highly similar to their existing neighborhood."
   ]
  },
  {
   "cell_type": "markdown",
   "metadata": {},
   "source": [
    "## 2. Data Description:\n",
    "    \n",
    "To consider the objective stated above, we can list the below data sources used for the analysis.\n",
    "\n",
    "### a) KSA Neighborhood Data: \n",
    "The following github project (https://github.com/homaily/Saudi-Arabia-Regions-Cities-and-Districts/tree/master/json) contains Saudi Arabia Regions, Cities and Districts. The data is public data collected from https://maps.address.gov.sa/ as ,all coordinates in (Lat, Lon) aka (Y, X) format and 8 decimal points.\n",
    "    Data points include:\n",
    "        Regions, Cities and Districts.\n",
    "        Names (Arabic & English).\n",
    "        Regions capital city, population & center point.\n",
    "        Regions boundaries.\n",
    "        Districts boundaries.\n",
    "This data divided into three parts:\n",
    "- regions.json\n",
    "- cities.json\n",
    "- districts.json\n",
    "\n",
    "The information obtained will be transformed into a pandas data frame for further analysis.\n",
    "\n",
    "### b) Coordinate data for each Neighborhood in KSA Cities: \n",
    "    \n",
    "All the venues in each neighborhood in the KSA cities will be collected from  Fousquare using  Fousquare API \n",
    "By using this api we will get all the venues in each neighborhood. We can filter these venues to get only two cities will be anlyzed."
   ]
  },
  {
   "cell_type": "markdown",
   "metadata": {},
   "source": [
    "\n",
    "### c) Sample from data and features\n"
   ]
  },
  {
   "cell_type": "code",
   "execution_count": 7,
   "metadata": {},
   "outputs": [
    {
     "name": "stdout",
     "output_type": "stream",
     "text": [
      "Libraries imported.\n"
     ]
    }
   ],
   "source": [
    "import warnings\n",
    "warnings.filterwarnings(\"ignore\")\n",
    "\n",
    "import numpy as np # library to handle data in a vectorized manner\n",
    "\n",
    "\n",
    "import pandas as pd # library for data analsysis\n",
    "pd.set_option('display.max_columns', None)\n",
    "pd.set_option('display.max_rows', None)\n",
    "\n",
    "#!conda install -c conda-forge geopy --yes # uncomment this line if you haven't completed the Foursquare API lab\n",
    "from geopy.geocoders import Nominatim # convert an address into latitude and longitude values\n",
    "\n",
    "import requests # library to handle requests\n",
    "from pandas.io.json import json_normalize # tranform JSON file into a pandas dataframe\n",
    "\n",
    "# Matplotlib and associated plotting modules\n",
    "import matplotlib.cm as cm\n",
    "import matplotlib.colors as colors\n",
    "\n",
    "# import k-means from clustering stage\n",
    "from sklearn.cluster import KMeans\n",
    "\n",
    "#!conda install -c conda-forge folium=0.5.0 --yes # uncomment this line if you haven't completed the Foursquare API lab\n",
    "import folium # map rendering library\n",
    "\n",
    "print('Libraries imported.')\n",
    "\n",
    "import json # library to handle JSON files\n"
   ]
  },
  {
   "cell_type": "markdown",
   "metadata": {},
   "source": [
    "#### Loading regions.json for extract KSA regions and explore it "
   ]
  },
  {
   "cell_type": "code",
   "execution_count": 5,
   "metadata": {},
   "outputs": [
    {
     "name": "stdout",
     "output_type": "stream",
     "text": [
      "No of regon: 13\n"
     ]
    }
   ],
   "source": [
    "with open('ksa/regions.json', encoding=\"utf-8\") as json_data:    \n",
    "    country_data = json.load(json_data)\n",
    "print('No of regon:',len(country_data) )"
   ]
  },
  {
   "cell_type": "markdown",
   "metadata": {},
   "source": [
    "#### Then convert json object of KSA regions to Pandas dataframe"
   ]
  },
  {
   "cell_type": "code",
   "execution_count": 10,
   "metadata": {},
   "outputs": [
    {
     "data": {
      "text/html": [
       "<div>\n",
       "<style scoped>\n",
       "    .dataframe tbody tr th:only-of-type {\n",
       "        vertical-align: middle;\n",
       "    }\n",
       "\n",
       "    .dataframe tbody tr th {\n",
       "        vertical-align: top;\n",
       "    }\n",
       "\n",
       "    .dataframe thead th {\n",
       "        text-align: right;\n",
       "    }\n",
       "</style>\n",
       "<table border=\"1\" class=\"dataframe\">\n",
       "  <thead>\n",
       "    <tr style=\"text-align: right;\">\n",
       "      <th></th>\n",
       "      <th>region_id</th>\n",
       "      <th>name_ar</th>\n",
       "      <th>name_en</th>\n",
       "      <th>population</th>\n",
       "      <th>capital_city_id</th>\n",
       "      <th>Latitude</th>\n",
       "      <th>Longitude</th>\n",
       "    </tr>\n",
       "  </thead>\n",
       "  <tbody>\n",
       "    <tr>\n",
       "      <th>0</th>\n",
       "      <td>1</td>\n",
       "      <td>منطقة الرياض</td>\n",
       "      <td>Riyadh</td>\n",
       "      <td>6777146</td>\n",
       "      <td>3</td>\n",
       "      <td>24.70000</td>\n",
       "      <td>46.73333</td>\n",
       "    </tr>\n",
       "    <tr>\n",
       "      <th>1</th>\n",
       "      <td>2</td>\n",
       "      <td>منطقة مكة المكرمة</td>\n",
       "      <td>Makkah</td>\n",
       "      <td>6915006</td>\n",
       "      <td>6</td>\n",
       "      <td>21.42718</td>\n",
       "      <td>39.84349</td>\n",
       "    </tr>\n",
       "    <tr>\n",
       "      <th>2</th>\n",
       "      <td>3</td>\n",
       "      <td>منطقة المدينة المنورة</td>\n",
       "      <td>Madinah</td>\n",
       "      <td>1777933</td>\n",
       "      <td>14</td>\n",
       "      <td>24.47058</td>\n",
       "      <td>39.60781</td>\n",
       "    </tr>\n",
       "    <tr>\n",
       "      <th>3</th>\n",
       "      <td>4</td>\n",
       "      <td>منطقة القصيم</td>\n",
       "      <td>Qassim</td>\n",
       "      <td>1215858</td>\n",
       "      <td>11</td>\n",
       "      <td>26.33034</td>\n",
       "      <td>43.97436</td>\n",
       "    </tr>\n",
       "    <tr>\n",
       "      <th>4</th>\n",
       "      <td>5</td>\n",
       "      <td>المنطقة الشرقية</td>\n",
       "      <td>Eastern Province</td>\n",
       "      <td>4105780</td>\n",
       "      <td>13</td>\n",
       "      <td>26.44199</td>\n",
       "      <td>50.10920</td>\n",
       "    </tr>\n",
       "  </tbody>\n",
       "</table>\n",
       "</div>"
      ],
      "text/plain": [
       "  region_id                name_ar           name_en population  \\\n",
       "0         1           منطقة الرياض            Riyadh    6777146   \n",
       "1         2      منطقة مكة المكرمة            Makkah    6915006   \n",
       "2         3  منطقة المدينة المنورة           Madinah    1777933   \n",
       "3         4           منطقة القصيم            Qassim    1215858   \n",
       "4         5        المنطقة الشرقية  Eastern Province    4105780   \n",
       "\n",
       "  capital_city_id  Latitude  Longitude  \n",
       "0               3  24.70000   46.73333  \n",
       "1               6  21.42718   39.84349  \n",
       "2              14  24.47058   39.60781  \n",
       "3              11  26.33034   43.97436  \n",
       "4              13  26.44199   50.10920  "
      ]
     },
     "execution_count": 10,
     "metadata": {},
     "output_type": "execute_result"
    }
   ],
   "source": [
    "country_regions= pd.DataFrame(columns= [ 'region_id', 'name_ar', 'name_en','population' , 'capital_city_id','Latitude', 'Longitude'] )\n",
    "\n",
    "for i,data in enumerate (country_data):\n",
    "    #print(i, end=' ')\n",
    "    row=[]\n",
    "    for c in country_regions.columns:\n",
    "        if c == 'Latitude' :\n",
    "            row.append(data['center'][0])    \n",
    "        elif c== 'Longitude':  \n",
    "            row.append(data['center'][1]) \n",
    "        else:\n",
    "            row.append(data[c])    \n",
    "    #print(row)\n",
    "    country_regions.loc[len(country_regions)] = row\n",
    "    \n",
    "country_regions.head()\n",
    "\n",
    "    "
   ]
  },
  {
   "cell_type": "markdown",
   "metadata": {},
   "source": [
    "#### Loading cities.json for extract KSA cities  and explore it "
   ]
  },
  {
   "cell_type": "code",
   "execution_count": 11,
   "metadata": {},
   "outputs": [],
   "source": [
    "with open('ksa/cities.json', encoding=\"utf-8\") as json_data:    \n",
    "    cities_data = json.load(json_data)"
   ]
  },
  {
   "cell_type": "markdown",
   "metadata": {},
   "source": [
    "#### Then convert json object of KSA cities to Pandas dataframe"
   ]
  },
  {
   "cell_type": "code",
   "execution_count": 13,
   "metadata": {},
   "outputs": [
    {
     "data": {
      "text/html": [
       "<div>\n",
       "<style scoped>\n",
       "    .dataframe tbody tr th:only-of-type {\n",
       "        vertical-align: middle;\n",
       "    }\n",
       "\n",
       "    .dataframe tbody tr th {\n",
       "        vertical-align: top;\n",
       "    }\n",
       "\n",
       "    .dataframe thead th {\n",
       "        text-align: right;\n",
       "    }\n",
       "</style>\n",
       "<table border=\"1\" class=\"dataframe\">\n",
       "  <thead>\n",
       "    <tr style=\"text-align: right;\">\n",
       "      <th></th>\n",
       "      <th>city_id</th>\n",
       "      <th>region_id</th>\n",
       "      <th>name_ar</th>\n",
       "      <th>name_en</th>\n",
       "      <th>Latitude</th>\n",
       "      <th>Longitude</th>\n",
       "    </tr>\n",
       "  </thead>\n",
       "  <tbody>\n",
       "    <tr>\n",
       "      <th>0</th>\n",
       "      <td>1</td>\n",
       "      <td>7</td>\n",
       "      <td>تبوك</td>\n",
       "      <td>Tabuk</td>\n",
       "      <td>28.41464</td>\n",
       "      <td>36.53387</td>\n",
       "    </tr>\n",
       "    <tr>\n",
       "      <th>1</th>\n",
       "      <td>2</td>\n",
       "      <td>7</td>\n",
       "      <td>نعمي</td>\n",
       "      <td>Na'mi</td>\n",
       "      <td>28.30508</td>\n",
       "      <td>35.74931</td>\n",
       "    </tr>\n",
       "    <tr>\n",
       "      <th>2</th>\n",
       "      <td>3</td>\n",
       "      <td>1</td>\n",
       "      <td>الرياض</td>\n",
       "      <td>Riyadh</td>\n",
       "      <td>24.70000</td>\n",
       "      <td>46.73333</td>\n",
       "    </tr>\n",
       "    <tr>\n",
       "      <th>3</th>\n",
       "      <td>4</td>\n",
       "      <td>7</td>\n",
       "      <td>حميط</td>\n",
       "      <td>Humayt</td>\n",
       "      <td>28.65152</td>\n",
       "      <td>35.38013</td>\n",
       "    </tr>\n",
       "    <tr>\n",
       "      <th>4</th>\n",
       "      <td>5</td>\n",
       "      <td>2</td>\n",
       "      <td>الطائف</td>\n",
       "      <td>At Taif</td>\n",
       "      <td>21.26848</td>\n",
       "      <td>40.41667</td>\n",
       "    </tr>\n",
       "  </tbody>\n",
       "</table>\n",
       "</div>"
      ],
      "text/plain": [
       "  city_id region_id name_ar  name_en  Latitude  Longitude\n",
       "0       1         7    تبوك    Tabuk  28.41464   36.53387\n",
       "1       2         7    نعمي    Na'mi  28.30508   35.74931\n",
       "2       3         1  الرياض   Riyadh  24.70000   46.73333\n",
       "3       4         7    حميط   Humayt  28.65152   35.38013\n",
       "4       5         2  الطائف  At Taif  21.26848   40.41667"
      ]
     },
     "execution_count": 13,
     "metadata": {},
     "output_type": "execute_result"
    }
   ],
   "source": [
    "country_cities= pd.DataFrame(columns= ['city_id', 'region_id', 'name_ar', 'name_en','Latitude', 'Longitude'] )\n",
    "\n",
    "\n",
    "for data in cities_data:\n",
    "    row=[]\n",
    "    for c in country_cities.columns:\n",
    "        if c == 'Latitude' :\n",
    "            row.append(data['center'][0])    \n",
    "  \n",
    "        elif c== 'Longitude':\n",
    "  \n",
    "            row.append(data['center'][1]) \n",
    "        else:\n",
    "            row.append(data[c])    \n",
    "    #print(row)\n",
    "    country_cities.loc[len(country_cities)] = row\n",
    "    \n",
    "country_cities.head()   "
   ]
  },
  {
   "cell_type": "markdown",
   "metadata": {},
   "source": [
    "#### Loading cities.json for extract KSA districts  and explore it "
   ]
  },
  {
   "cell_type": "code",
   "execution_count": 14,
   "metadata": {},
   "outputs": [],
   "source": [
    "#with open('newyork_data.json') as json_data:\n",
    "with open('ksa/districts.json', encoding=\"utf-8\") as json_data:    \n",
    "    districts_data = json.load(json_data)"
   ]
  },
  {
   "cell_type": "markdown",
   "metadata": {},
   "source": [
    "#### Then convert json object of KSA districts to Pandas dataframe"
   ]
  },
  {
   "cell_type": "code",
   "execution_count": 15,
   "metadata": {},
   "outputs": [
    {
     "data": {
      "text/html": [
       "<div>\n",
       "<style scoped>\n",
       "    .dataframe tbody tr th:only-of-type {\n",
       "        vertical-align: middle;\n",
       "    }\n",
       "\n",
       "    .dataframe tbody tr th {\n",
       "        vertical-align: top;\n",
       "    }\n",
       "\n",
       "    .dataframe thead th {\n",
       "        text-align: right;\n",
       "    }\n",
       "</style>\n",
       "<table border=\"1\" class=\"dataframe\">\n",
       "  <thead>\n",
       "    <tr style=\"text-align: right;\">\n",
       "      <th></th>\n",
       "      <th>district_id</th>\n",
       "      <th>city_id</th>\n",
       "      <th>region_id</th>\n",
       "      <th>name_ar</th>\n",
       "      <th>name_en</th>\n",
       "      <th>Latitude</th>\n",
       "      <th>Longitude</th>\n",
       "    </tr>\n",
       "  </thead>\n",
       "  <tbody>\n",
       "    <tr>\n",
       "      <th>0</th>\n",
       "      <td>10100003001</td>\n",
       "      <td>3</td>\n",
       "      <td>1</td>\n",
       "      <td>حي العمل</td>\n",
       "      <td>Al Amal Dist.</td>\n",
       "      <td>24.644966</td>\n",
       "      <td>46.723598</td>\n",
       "    </tr>\n",
       "    <tr>\n",
       "      <th>1</th>\n",
       "      <td>10100003002</td>\n",
       "      <td>3</td>\n",
       "      <td>1</td>\n",
       "      <td>حي النموذجية</td>\n",
       "      <td>Al Namudhajiyah Dist.</td>\n",
       "      <td>24.655615</td>\n",
       "      <td>46.696523</td>\n",
       "    </tr>\n",
       "    <tr>\n",
       "      <th>2</th>\n",
       "      <td>10100003003</td>\n",
       "      <td>3</td>\n",
       "      <td>1</td>\n",
       "      <td>حي الجرادية</td>\n",
       "      <td>Al Jarradiyah Dist.</td>\n",
       "      <td>24.618815</td>\n",
       "      <td>46.696110</td>\n",
       "    </tr>\n",
       "    <tr>\n",
       "      <th>3</th>\n",
       "      <td>10100003004</td>\n",
       "      <td>3</td>\n",
       "      <td>1</td>\n",
       "      <td>حي الصناعية</td>\n",
       "      <td>Al Sinaiyah Dist.</td>\n",
       "      <td>24.646447</td>\n",
       "      <td>46.741675</td>\n",
       "    </tr>\n",
       "    <tr>\n",
       "      <th>4</th>\n",
       "      <td>10100003005</td>\n",
       "      <td>3</td>\n",
       "      <td>1</td>\n",
       "      <td>حي منفوحة الجديدة</td>\n",
       "      <td>Manfuha Al Jadidah Dist.</td>\n",
       "      <td>24.613354</td>\n",
       "      <td>46.716463</td>\n",
       "    </tr>\n",
       "  </tbody>\n",
       "</table>\n",
       "</div>"
      ],
      "text/plain": [
       "   district_id city_id region_id            name_ar                   name_en  \\\n",
       "0  10100003001       3         1           حي العمل             Al Amal Dist.   \n",
       "1  10100003002       3         1       حي النموذجية     Al Namudhajiyah Dist.   \n",
       "2  10100003003       3         1        حي الجرادية       Al Jarradiyah Dist.   \n",
       "3  10100003004       3         1        حي الصناعية         Al Sinaiyah Dist.   \n",
       "4  10100003005       3         1  حي منفوحة الجديدة  Manfuha Al Jadidah Dist.   \n",
       "\n",
       "    Latitude  Longitude  \n",
       "0  24.644966  46.723598  \n",
       "1  24.655615  46.696523  \n",
       "2  24.618815  46.696110  \n",
       "3  24.646447  46.741675  \n",
       "4  24.613354  46.716463  "
      ]
     },
     "execution_count": 15,
     "metadata": {},
     "output_type": "execute_result"
    }
   ],
   "source": [
    "country_districts= pd.DataFrame(columns= ['district_id','city_id', 'region_id', 'name_ar', 'name_en','Latitude', 'Longitude'] )\n",
    "\n",
    "for data in districts_data:\n",
    "    row=[]\n",
    "    for c in country_districts.columns:\n",
    "        if c == 'Latitude' :\n",
    "            b = np.array(data['boundaries'][0])\n",
    "            b=b.mean(axis=0 )\n",
    "            row.append(b[0])   \n",
    "            row.append(b[1])    \n",
    "        elif c == 'Longitude' :\n",
    "            None\n",
    "        else:\n",
    "            row.append(data[c])    \n",
    "        #print(row)\n",
    "    \n",
    "    country_districts.loc[len(country_districts)] = row\n",
    "    \n",
    "    \n",
    "country_districts.head()   "
   ]
  }
 ],
 "metadata": {
  "anaconda-cloud": {},
  "hide_input": false,
  "kernelspec": {
   "display_name": "Python 3",
   "language": "python",
   "name": "python3"
  },
  "language_info": {
   "codemirror_mode": {
    "name": "ipython",
    "version": 3
   },
   "file_extension": ".py",
   "mimetype": "text/x-python",
   "name": "python",
   "nbconvert_exporter": "python",
   "pygments_lexer": "ipython3",
   "version": "3.7.6"
  }
 },
 "nbformat": 4,
 "nbformat_minor": 2
}
